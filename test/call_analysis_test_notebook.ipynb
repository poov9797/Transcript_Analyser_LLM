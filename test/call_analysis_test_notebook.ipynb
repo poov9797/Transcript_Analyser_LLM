{
 "cells": [
  {
   "cell_type": "code",
   "execution_count": 9,
   "metadata": {},
   "outputs": [],
   "source": [
    "#path to the required call analysis file\n",
    "path_to_file=\"/Users/pravin/Desktop/Src/call_analysis_results.csv\""
   ]
  },
  {
   "cell_type": "code",
   "execution_count": 4,
   "metadata": {},
   "outputs": [
    {
     "name": "stdout",
     "output_type": "stream",
     "text": [
      "Loaded 200 transcripts.\n"
     ]
    },
    {
     "data": {
      "text/plain": [
       "[{'transcript_0.txt': \"Member: Hi, I'm calling to get a case pre-authorized. My name is Emily Wilson and my member ID is MEM456789.\\n\\nPA Agent: Hi Emily, thank you for calling PA customer care. Can you please confirm your date of birth for verification purposes?\\n\\nMember: It's March 12, 1985.\\n\\nPA Agent: Thank you, Emily. Can you please provide me with some details about the case you're seeking pre-authorization for? What's the nature of the treatment or service you're looking to receive?\\n\\nMember: I'm scheduled to undergo an MRI scan for a knee injury. My doctor's office has already submitted the request, but I wanted to confirm the status and ensure that it's covered under my plan.\\n\\nPA Agent: I apologize for the delay, Emily. Let me just check on the status of your request. Can you please hold for just a moment?\\n\\nMember: Sure, thank you.\\n\\nPA Agent: Thank you for holding, Emily. I've located your request and I'm reviewing the details now. Can you please confirm the name of your doctor and the facility where the MRI scan is scheduled to take place?\\n\\nMember: My doctor's name is Dr. Smith and the facility is Oakwood Medical Center.\\n\\nPA Agent: Thank you, Emily. I've verified the information and I'm checking your eligibility now. Can you please hold for just another moment?\\n\\nMember: Okay.\\n\\nPA Agent: Thank you for holding, Emily. I've checked your eligibility and it appears that you do have coverage for the MRI scan under your plan. However, I need to escalate this request to our medical review team for further evaluation.\\n\\nMember: Okay, what does that mean?\\n\\nPA Agent: It means that our medical review team will review your case and make a determination regarding pre-authorization. I apologize, but I won't be able to provide a decision today. We'll be in touch with you within the next 3-5 business days to let you know the outcome.\\n\\nMember: Okay, that sounds good. Can you give me a reference number for this case so I can follow up if needed?\\n\\nPA Agent: Yes, certainly. Your case number is PA001234. You can use this number to follow up on the status of your request.\\n\\nMember: Great, thank you for your help.\\n\\nPA Agent: You're welcome, Emily. We'll be in touch soon. Is there anything else I can assist you with today?\\n\\nMember: No, that's all. Thank you.\\n\\nPA Agent: You're welcome. Have a great day.\"},\n",
       " {'transcript_1.txt': \"Member: Hi, I'm calling about a denied claim I received for my recent medical service. I was told that my policy doesn't cover it, but I'm certain it should be covered under my new policy. My member ID is MEM123456.\\n\\nCustomer Support: I apologize for the inconvenience, MEM123456. Can you please provide me with more information about the denied claim, such as the claim number and the date of service?\\n\\nMember: The claim number is CLM789012, and the date of service was February 10th.\\n\\nCustomer Support: Thank you for providing that information. I've located your claim in our system. Can you tell me more about the new policy you're referring to? When did you switch policies?\\n\\nMember: I switched policies on January 1st. I was told that the new policy would cover the service I received, but the denial letter says it's not covered.\\n\\nCustomer Support: I understand your concern. Let me check on the status of your policy update in our system. (pause) I apologize, but it appears that your new policy has not been updated in our system. This is likely the reason why your claim was denied.\\n\\nMember: That's frustrating. How can we get this resolved?\\n\\nCustomer Support: I'm going to go ahead and connect you with our policy update team. They'll be able to assist in updating your policy and reprocessing your claim. Please hold for just a moment.\\n\\n(pause)\\n\\nCustomer Support: You're now connected with our policy update team. They'll take care of updating your policy and getting your claim approved. Is there anything else I can assist you with in the meantime?\\n\\nMember: No, that's all. Thank you for your help.\\n\\nCustomer Support: You're welcome, MEM123456. We apologize again for the mistake and appreciate your patience. The policy update team will be in touch with you shortly to confirm the status of your claim.\\n\\nMember: Thank you.\\n\\nCustomer Support: You're welcome. Have a great day.\\n\\nCall duration: 9 minutes\"},\n",
       " {'transcript_2.txt': \"Member: Hi, I'm calling about my recent doctor's visit. I was charged a copay of $50, but I thought my policy covered that service with a $20 copay.\\n\\nCustomer Support: I apologize for the inconvenience, Mr. Johnson. Can you please provide me with your member ID so I can look into this further?\\n\\nMember: It's MEM456789.\\n\\nCustomer Support: Thank you, Mr. Johnson. I've located your account. Can you please confirm the date of the doctor's visit and the service that was provided?\\n\\nMember: It was on February 10th, and it was a routine physical exam.\\n\\nCustomer Support: Okay, I've located the claim. It looks like the copay amount was indeed $50. However, I'm going to check on the policy details to see if there was an error.\\n\\nMember: Yeah, because my policy says that routine physical exams have a $20 copay or sometimes no copay at all.\\n\\nCustomer Support: I understand your concern, Mr. Johnson. I'm checking on the policy details... (pause) Okay, I've checked, and it looks like there might have been an error in the copay amount. However, I need to escalate this to our claims department to investigate further.\\n\\nMember: Okay, that sounds good. How long will it take to resolve this?\\n\\nCustomer Support: Typically, it takes 3-5 business days to investigate and resolve these types of issues. I'll go ahead and open a case for you, and someone from our claims department will be in touch with you to provide an update.\\n\\nMember: Alright, that sounds good. Can I get a reference number for the case?\\n\\nCustomer Support: Yes, the case number is #CAS012345. You can use that to reference the case when you speak with our claims department.\\n\\nMember: Okay, got it. Thank you for your help.\\n\\nCustomer Support: You're welcome, Mr. Johnson. We'll be in touch soon to provide an update on your case.\\n\\nMember: Alright, thanks.\\n\\nCustomer Support: Is there anything else I can assist you with today?\\n\\nMember: No, that's all.\\n\\nCustomer Support: Okay, Mr. Johnson. Have a great day.\\n\\nMember: You too, thanks.\\n\\nCustomer Support: Goodbye.\"},\n",
       " {'transcript_3.txt': \"Member: Hi, I'm calling about my recent visit to the doctor. I was charged a copay of $50, but I'm sure my policy says it's supposed to be $20.\\n\\nCustomer Support: I apologize for the inconvenience, can you please provide me with your member ID so I can look into this further?\\n\\nMember: It's MEM123456.\\n\\nCustomer Support: Thank you, Mr./Ms./Mrs./Miss/Mx (Last Name). I've located your account. Can you please confirm the date of the doctor's visit and the name of the doctor you saw?\\n\\nMember: It was on February 10th, and the doctor's name is Dr. Smith.\\n\\nCustomer Support: Okay, let me check on that. (pause) I'm seeing that the copay for that service is indeed $50 according to our records.\\n\\nMember: But that's not what my policy says! I'm looking at it right now, and it says I shouldn't have to pay more than $20 for that type of service.\\n\\nCustomer Support: I understand your concern, but I assure you that our records are accurate. However, I can try to investigate this further. Can you please hold for a moment?\\n\\nMember: (sighs) Fine.\\n\\nCustomer Support: (after a few minutes) I apologize for the wait. I've checked with our billing team, and it seems that the copay was processed correctly according to our system.\\n\\nMember: That's ridiculous! I know what my policy says, and I'm not paying $50 for something I shouldn't have to. Can I speak to a supervisor?\\n\\nCustomer Support: I understand your frustration, but I'm afraid my supervisor is not available at the moment. I can offer to escalate this issue and have someone contact you within the next 24-48 hours.\\n\\nMember: That's not good enough. I want this resolved now. Can you just waive the extra $30?\\n\\nCustomer Support: I apologize, but I don't have the authority to make exceptions to the policy. I can only offer to escalate the issue as I mentioned earlier.\\n\\nMember: This is ridiculous. I'm going to report this to my employer and make sure no one else has to deal with this nonsense.\\n\\nCustomer Support: I apologize again for the inconvenience, and I understand your frustration. If you'd like to proceed with escalating the issue, I can go ahead and document that for you.\\n\\nMember: Just do it. And can you also send me a confirmation email about this conversation?\\n\\nCustomer Support: Yes, of course. I'll go ahead and send you a confirmation email with the details of our conversation and the escalation request.\\n\\nMember: (angrily) Fine. Thank you for nothing.\\n\\nCustomer Support: You're welcome, Mr./Ms./Mrs./Miss/Mx (Last Name). I apologize again for not being able to resolve the issue to your satisfaction.\"},\n",
       " {'transcript_4.txt': \"Member: Hi, I'd like to schedule an appointment with a specialist. My member ID is MEM123456.\\n\\nCustomer Support: Thank you for calling us, MEM123456. Can you please tell me what type of specialist you're looking for and what date and time you'd prefer for the appointment?\\n\\nMember: I'm looking for a dermatologist and I was thinking maybe next Wednesday or Thursday. Do you have any availability?\\n\\nCustomer Support: Let me check our schedule. (pause) Okay, I've checked and we have a few options available for next Wednesday and Thursday. We have Dr. Smith available on Wednesday at 2 PM and Dr. Johnson available on Thursday at 10 AM. Both are highly rated specialists in dermatology. Which one would you prefer?\\n\\nMember: That sounds great. Can you tell me a bit more about Dr. Smith and Dr. Johnson? What are their specialties within dermatology?\\n\\nCustomer Support: Dr. Smith specializes in skin cancer treatment and cosmetic dermatology, while Dr. Johnson focuses on acne treatment and skin allergies. Both are highly experienced and well-reviewed by our members.\\n\\nMember: Okay, I think I'd like to schedule an appointment with Dr. Johnson on Thursday at 10 AM.\\n\\nCustomer Support: Great choice! I've scheduled the appointment for you. You'll receive a confirmation email with all the details. Is there anything else I can assist you with today?\\n\\nMember: No, that's all. Thank you for your help!\\n\\nCustomer Support: You're welcome, MEM123456. Have a great day and we'll see you on Thursday!\\n\\nMember: Thanks, bye.\\n\\nCustomer Support: Bye.\"}]"
      ]
     },
     "execution_count": 4,
     "metadata": {},
     "output_type": "execute_result"
    }
   ],
   "source": [
    "import os\n",
    "import re\n",
    "from openai import OpenAI\n",
    "\n",
    "# Path to the folder containing the transcript files\n",
    "folder_path = '/Users/pravin/Desktop/transcripts_v3/transcripts_v3'\n",
    "\n",
    "# Function to load all transcripts\n",
    "def load_transcripts(folder_path):\n",
    "    transcripts = []\n",
    "    # List and sort the filenames in ascending order\n",
    "    filenames = sorted([filename for filename in os.listdir(folder_path) if filename.endswith(\".txt\")])\n",
    "    \n",
    "    # Load each transcript file in the sorted order\n",
    "    for filename in filenames:\n",
    "        with open(os.path.join(folder_path, filename), 'r') as file:\n",
    "            transcripts.append({filename:file.read()})\n",
    "    return transcripts\n",
    "\n",
    "# Load all transcript files\n",
    "transcripts = load_transcripts(folder_path)\n",
    "print(f\"Loaded {len(transcripts)} transcripts.\")\n",
    "# Function to extract the numerical part of the filename\n",
    "def extract_number(key):\n",
    "    return int(re.search(r'\\d+', key).group())\n",
    "\n",
    "# Sort the transcripts based on the number in the filename\n",
    "sorted_transcripts = sorted(transcripts, key=lambda x: extract_number(list(x.keys())[0]))\n",
    "sorted_transcripts[:5]"
   ]
  },
  {
   "cell_type": "markdown",
   "metadata": {},
   "source": [
    "Building ground truth data using LLM"
   ]
  },
  {
   "cell_type": "code",
   "execution_count": 5,
   "metadata": {},
   "outputs": [],
   "source": [
    "def build_prompt(transcript):\n",
    "    prompt_template = f\"\"\"\n",
    "    \n",
    "    The following is a conversation between a customer and an agent. Analyze the conversation and do the following:\n",
    "\n",
    "    1. Determine if the customer's issue was resolved or if follow-up action is needed.\n",
    "    2. Determine the overall sentiment of the customer during the conversation (positive, negative, or neutral).\n",
    "\n",
    "    Transcript: {transcript}\n",
    "\n",
    "    Based on the findings provide an output in the below format:\n",
    "\n",
    "    Call Outcome: [Issue Resolved/Follow-up Action Needed]\n",
    "    Sentiment: [Positive/Negative/Neutral]\n",
    "    \"\"\"\n",
    "    \n",
    "    return prompt_template.strip()"
   ]
  },
  {
   "cell_type": "code",
   "execution_count": 6,
   "metadata": {},
   "outputs": [],
   "source": [
    "# OLLAMA_URL = \"http://ollama:11434/v1/\"\n",
    "OLLAMA_URL = \"http://localhost:11434/v1/\"\n",
    "\n",
    "def llm(transcript):\n",
    "    prompt=build_prompt(transcript)\n",
    "           \n",
    "    ollama_client = OpenAI(base_url=OLLAMA_URL, api_key=\"ollama\")\n",
    "\n",
    "    response = ollama_client.chat.completions.create(\n",
    "                model=\"llama3.2\",\n",
    "                messages=[{\"role\": \"user\", \"content\": prompt}]\n",
    "            )\n",
    "    answer = response.choices[0].message.content\n",
    "    return answer"
   ]
  },
  {
   "cell_type": "code",
   "execution_count": 7,
   "metadata": {},
   "outputs": [],
   "source": [
    "from tqdm import tqdm\n",
    "\n",
    "def determine_call_outcomes(customer_transcripts):\n",
    "    outcomes = []\n",
    "    for transcript in tqdm(customer_transcripts, desc=\"Processing Transcripts\"):\n",
    "        outcome = llm(transcript)  # Reuse the function from earlier\n",
    "        outcomes.append(outcome)\n",
    "    return outcomes"
   ]
  },
  {
   "cell_type": "code",
   "execution_count": 8,
   "metadata": {},
   "outputs": [
    {
     "name": "stderr",
     "output_type": "stream",
     "text": [
      "Processing Transcripts: 100%|██████████| 200/200 [1:45:13<00:00, 31.57s/it]\n"
     ]
    }
   ],
   "source": [
    "# Determine call outcome for each transcript\n",
    "call_outcomes = determine_call_outcomes(sorted_transcripts)"
   ]
  },
  {
   "cell_type": "code",
   "execution_count": 20,
   "metadata": {},
   "outputs": [
    {
     "data": {
      "text/html": [
       "<div>\n",
       "<style scoped>\n",
       "    .dataframe tbody tr th:only-of-type {\n",
       "        vertical-align: middle;\n",
       "    }\n",
       "\n",
       "    .dataframe tbody tr th {\n",
       "        vertical-align: top;\n",
       "    }\n",
       "\n",
       "    .dataframe thead th {\n",
       "        text-align: right;\n",
       "    }\n",
       "</style>\n",
       "<table border=\"1\" class=\"dataframe\">\n",
       "  <thead>\n",
       "    <tr style=\"text-align: right;\">\n",
       "      <th></th>\n",
       "      <th>Transcript</th>\n",
       "      <th>Customer Dialogue</th>\n",
       "      <th>Sentiment</th>\n",
       "      <th>Call Outcome</th>\n",
       "      <th>Output</th>\n",
       "    </tr>\n",
       "  </thead>\n",
       "  <tbody>\n",
       "    <tr>\n",
       "      <th>0</th>\n",
       "      <td>{'transcript_0.txt': \"Member: Hi, I'm calling ...</td>\n",
       "      <td>Hi, I'm calling to get a case pre-authorized. ...</td>\n",
       "      <td>POSITIVE</td>\n",
       "      <td>Call Outcome: Issue Resolved\\nSentiment: Neutr...</td>\n",
       "      <td>Issue Resolved</td>\n",
       "    </tr>\n",
       "    <tr>\n",
       "      <th>1</th>\n",
       "      <td>{'transcript_1.txt': \"Member: Hi, I'm calling ...</td>\n",
       "      <td>Hi, I'm calling about a denied claim I receive...</td>\n",
       "      <td>NEGATIVE</td>\n",
       "      <td>Call Outcome: Follow-up Action Needed\\nSentime...</td>\n",
       "      <td>Follow-up Action Needed</td>\n",
       "    </tr>\n",
       "    <tr>\n",
       "      <th>2</th>\n",
       "      <td>{'transcript_2.txt': \"Member: Hi, I'm calling ...</td>\n",
       "      <td>Hi, I'm calling about my recent doctor's visit...</td>\n",
       "      <td>POSITIVE</td>\n",
       "      <td>Call Outcome: Follow-up Action Needed\\nSentime...</td>\n",
       "      <td>Follow-up Action Needed</td>\n",
       "    </tr>\n",
       "    <tr>\n",
       "      <th>3</th>\n",
       "      <td>{'transcript_3.txt': \"Member: Hi, I'm calling ...</td>\n",
       "      <td>Hi, I'm calling about my recent visit to the d...</td>\n",
       "      <td>NEGATIVE</td>\n",
       "      <td>Call Outcome: Follow-up Action Needed\\nSentime...</td>\n",
       "      <td>Follow-up Action Needed</td>\n",
       "    </tr>\n",
       "    <tr>\n",
       "      <th>4</th>\n",
       "      <td>{'transcript_4.txt': \"Member: Hi, I'd like to ...</td>\n",
       "      <td>Hi, I'd like to schedule an appointment with a...</td>\n",
       "      <td>POSITIVE</td>\n",
       "      <td>Call Outcome: Issue Resolved\\nSentiment: Posit...</td>\n",
       "      <td>Issue Resolved</td>\n",
       "    </tr>\n",
       "  </tbody>\n",
       "</table>\n",
       "</div>"
      ],
      "text/plain": [
       "                                          Transcript  \\\n",
       "0  {'transcript_0.txt': \"Member: Hi, I'm calling ...   \n",
       "1  {'transcript_1.txt': \"Member: Hi, I'm calling ...   \n",
       "2  {'transcript_2.txt': \"Member: Hi, I'm calling ...   \n",
       "3  {'transcript_3.txt': \"Member: Hi, I'm calling ...   \n",
       "4  {'transcript_4.txt': \"Member: Hi, I'd like to ...   \n",
       "\n",
       "                                   Customer Dialogue Sentiment  \\\n",
       "0  Hi, I'm calling to get a case pre-authorized. ...  POSITIVE   \n",
       "1  Hi, I'm calling about a denied claim I receive...  NEGATIVE   \n",
       "2  Hi, I'm calling about my recent doctor's visit...  POSITIVE   \n",
       "3  Hi, I'm calling about my recent visit to the d...  NEGATIVE   \n",
       "4  Hi, I'd like to schedule an appointment with a...  POSITIVE   \n",
       "\n",
       "                                        Call Outcome                   Output  \n",
       "0  Call Outcome: Issue Resolved\\nSentiment: Neutr...           Issue Resolved  \n",
       "1  Call Outcome: Follow-up Action Needed\\nSentime...  Follow-up Action Needed  \n",
       "2  Call Outcome: Follow-up Action Needed\\nSentime...  Follow-up Action Needed  \n",
       "3  Call Outcome: Follow-up Action Needed\\nSentime...  Follow-up Action Needed  \n",
       "4  Call Outcome: Issue Resolved\\nSentiment: Posit...           Issue Resolved  "
      ]
     },
     "execution_count": 20,
     "metadata": {},
     "output_type": "execute_result"
    }
   ],
   "source": [
    "import pandas as pd\n",
    "\n",
    "# Read data from CSV file into a DataFrame\n",
    "df = pd.read_csv(path_to_file)\n",
    "\n",
    "# Display the first few rows of the DataFrame to check the data\n",
    "df.head()"
   ]
  },
  {
   "cell_type": "code",
   "execution_count": 21,
   "metadata": {},
   "outputs": [],
   "source": [
    "df['Ground_truth_outcome'] = call_outcomes"
   ]
  },
  {
   "cell_type": "code",
   "execution_count": 22,
   "metadata": {},
   "outputs": [
    {
     "data": {
      "text/html": [
       "<div>\n",
       "<style scoped>\n",
       "    .dataframe tbody tr th:only-of-type {\n",
       "        vertical-align: middle;\n",
       "    }\n",
       "\n",
       "    .dataframe tbody tr th {\n",
       "        vertical-align: top;\n",
       "    }\n",
       "\n",
       "    .dataframe thead th {\n",
       "        text-align: right;\n",
       "    }\n",
       "</style>\n",
       "<table border=\"1\" class=\"dataframe\">\n",
       "  <thead>\n",
       "    <tr style=\"text-align: right;\">\n",
       "      <th></th>\n",
       "      <th>Transcript</th>\n",
       "      <th>Customer Dialogue</th>\n",
       "      <th>Sentiment</th>\n",
       "      <th>Call Outcome</th>\n",
       "      <th>Output</th>\n",
       "      <th>Ground_truth_outcome</th>\n",
       "    </tr>\n",
       "  </thead>\n",
       "  <tbody>\n",
       "    <tr>\n",
       "      <th>0</th>\n",
       "      <td>{'transcript_0.txt': \"Member: Hi, I'm calling ...</td>\n",
       "      <td>Hi, I'm calling to get a case pre-authorized. ...</td>\n",
       "      <td>POSITIVE</td>\n",
       "      <td>Call Outcome: Issue Resolved\\nSentiment: Neutr...</td>\n",
       "      <td>Issue Resolved</td>\n",
       "      <td>Based on the conversation transcript, here is ...</td>\n",
       "    </tr>\n",
       "    <tr>\n",
       "      <th>1</th>\n",
       "      <td>{'transcript_1.txt': \"Member: Hi, I'm calling ...</td>\n",
       "      <td>Hi, I'm calling about a denied claim I receive...</td>\n",
       "      <td>NEGATIVE</td>\n",
       "      <td>Call Outcome: Follow-up Action Needed\\nSentime...</td>\n",
       "      <td>Follow-up Action Needed</td>\n",
       "      <td>Based on the transcript, here is my analysis o...</td>\n",
       "    </tr>\n",
       "    <tr>\n",
       "      <th>2</th>\n",
       "      <td>{'transcript_2.txt': \"Member: Hi, I'm calling ...</td>\n",
       "      <td>Hi, I'm calling about my recent doctor's visit...</td>\n",
       "      <td>POSITIVE</td>\n",
       "      <td>Call Outcome: Follow-up Action Needed\\nSentime...</td>\n",
       "      <td>Follow-up Action Needed</td>\n",
       "      <td>Based on the conversation transcript, here is ...</td>\n",
       "    </tr>\n",
       "    <tr>\n",
       "      <th>3</th>\n",
       "      <td>{'transcript_3.txt': \"Member: Hi, I'm calling ...</td>\n",
       "      <td>Hi, I'm calling about my recent visit to the d...</td>\n",
       "      <td>NEGATIVE</td>\n",
       "      <td>Call Outcome: Follow-up Action Needed\\nSentime...</td>\n",
       "      <td>Follow-up Action Needed</td>\n",
       "      <td>Based on the transcript, here is the analysis ...</td>\n",
       "    </tr>\n",
       "    <tr>\n",
       "      <th>4</th>\n",
       "      <td>{'transcript_4.txt': \"Member: Hi, I'd like to ...</td>\n",
       "      <td>Hi, I'd like to schedule an appointment with a...</td>\n",
       "      <td>POSITIVE</td>\n",
       "      <td>Call Outcome: Issue Resolved\\nSentiment: Posit...</td>\n",
       "      <td>Issue Resolved</td>\n",
       "      <td>Based on the conversation transcript, here is ...</td>\n",
       "    </tr>\n",
       "  </tbody>\n",
       "</table>\n",
       "</div>"
      ],
      "text/plain": [
       "                                          Transcript  \\\n",
       "0  {'transcript_0.txt': \"Member: Hi, I'm calling ...   \n",
       "1  {'transcript_1.txt': \"Member: Hi, I'm calling ...   \n",
       "2  {'transcript_2.txt': \"Member: Hi, I'm calling ...   \n",
       "3  {'transcript_3.txt': \"Member: Hi, I'm calling ...   \n",
       "4  {'transcript_4.txt': \"Member: Hi, I'd like to ...   \n",
       "\n",
       "                                   Customer Dialogue Sentiment  \\\n",
       "0  Hi, I'm calling to get a case pre-authorized. ...  POSITIVE   \n",
       "1  Hi, I'm calling about a denied claim I receive...  NEGATIVE   \n",
       "2  Hi, I'm calling about my recent doctor's visit...  POSITIVE   \n",
       "3  Hi, I'm calling about my recent visit to the d...  NEGATIVE   \n",
       "4  Hi, I'd like to schedule an appointment with a...  POSITIVE   \n",
       "\n",
       "                                        Call Outcome                   Output  \\\n",
       "0  Call Outcome: Issue Resolved\\nSentiment: Neutr...           Issue Resolved   \n",
       "1  Call Outcome: Follow-up Action Needed\\nSentime...  Follow-up Action Needed   \n",
       "2  Call Outcome: Follow-up Action Needed\\nSentime...  Follow-up Action Needed   \n",
       "3  Call Outcome: Follow-up Action Needed\\nSentime...  Follow-up Action Needed   \n",
       "4  Call Outcome: Issue Resolved\\nSentiment: Posit...           Issue Resolved   \n",
       "\n",
       "                                Ground_truth_outcome  \n",
       "0  Based on the conversation transcript, here is ...  \n",
       "1  Based on the transcript, here is my analysis o...  \n",
       "2  Based on the conversation transcript, here is ...  \n",
       "3  Based on the transcript, here is the analysis ...  \n",
       "4  Based on the conversation transcript, here is ...  "
      ]
     },
     "execution_count": 22,
     "metadata": {},
     "output_type": "execute_result"
    }
   ],
   "source": [
    "df.head()"
   ]
  },
  {
   "cell_type": "code",
   "execution_count": 23,
   "metadata": {},
   "outputs": [],
   "source": [
    "# Define a function to check and categorize the outcome\n",
    "def categorize_outcome(call_outcome):\n",
    "    call_outcome_lower = call_outcome.lower()\n",
    "    if \"follow-up\" in call_outcome_lower:\n",
    "        return \"Follow-up Action Needed\"\n",
    "    elif \"issue\" or \"resolved\" in call_outcome_lower:\n",
    "        return \"Issue Resolved\"\n",
    "    else:\n",
    "        return \"Unknown\"\n",
    "    \n",
    "\n",
    "# Define a function to check and categorize the outcome\n",
    "def categorize_sentiment(call_outcome):\n",
    "    call_outcome_lower = call_outcome.lower()\n",
    "    if \"positive\" in call_outcome_lower:\n",
    "        return \"positive\"\n",
    "    elif \"negative\"  in call_outcome_lower:\n",
    "        return \"negative\"\n",
    "    elif \"neutral\" in call_outcome_lower:\n",
    "        return \"neutral\"\n",
    "    else:\n",
    "        return \"unknown\""
   ]
  },
  {
   "cell_type": "code",
   "execution_count": 24,
   "metadata": {},
   "outputs": [],
   "source": [
    "# Apply the function to the 'Call Outcome' column and create a new 'Output' column\n",
    "df['Actual_Sentiment'] = df['Ground_truth_outcome'].apply(categorize_sentiment)\n",
    "df['Actual_Outcome'] = df['Ground_truth_outcome'].apply(categorize_outcome)"
   ]
  },
  {
   "cell_type": "code",
   "execution_count": 25,
   "metadata": {},
   "outputs": [
    {
     "name": "stdout",
     "output_type": "stream",
     "text": [
      "Results saved to call_analysis_ground_truth_results.csv\n"
     ]
    }
   ],
   "source": [
    "import csv\n",
    "\n",
    "# Save results to a CSV file\n",
    "df.to_csv('call_analysis_ground_truth_results.csv', index=False)\n",
    "print(\"Results saved to call_analysis_ground_truth_results.csv\")"
   ]
  },
  {
   "cell_type": "code",
   "execution_count": 26,
   "metadata": {},
   "outputs": [
    {
     "name": "stdout",
     "output_type": "stream",
     "text": [
      "              precision    recall  f1-score   support\n",
      "\n",
      "    NEGATIVE       0.00      0.00      0.00       0.0\n",
      "     NEUTRAL       0.00      0.00      0.00       0.0\n",
      "    POSITIVE       0.00      0.00      0.00       0.0\n",
      "    negative       0.00      0.00      0.00      27.0\n",
      "     neutral       0.00      0.00      0.00       8.0\n",
      "    positive       0.00      0.00      0.00     163.0\n",
      "     unknown       0.00      0.00      0.00       2.0\n",
      "\n",
      "    accuracy                           0.00     200.0\n",
      "   macro avg       0.00      0.00      0.00     200.0\n",
      "weighted avg       0.00      0.00      0.00     200.0\n",
      "\n",
      "                         precision    recall  f1-score   support\n",
      "\n",
      "Follow-up Action Needed       0.61      0.29      0.39       106\n",
      "         Issue Resolved       0.50      0.79      0.61        94\n",
      "\n",
      "               accuracy                           0.53       200\n",
      "              macro avg       0.55      0.54      0.50       200\n",
      "           weighted avg       0.56      0.53      0.50       200\n",
      "\n"
     ]
    },
    {
     "name": "stderr",
     "output_type": "stream",
     "text": [
      "/opt/anaconda3/envs/mdlmonitoring/lib/python3.11/site-packages/sklearn/metrics/_classification.py:1517: UndefinedMetricWarning: Precision is ill-defined and being set to 0.0 in labels with no predicted samples. Use `zero_division` parameter to control this behavior.\n",
      "  _warn_prf(average, modifier, f\"{metric.capitalize()} is\", len(result))\n",
      "/opt/anaconda3/envs/mdlmonitoring/lib/python3.11/site-packages/sklearn/metrics/_classification.py:1517: UndefinedMetricWarning: Recall is ill-defined and being set to 0.0 in labels with no true samples. Use `zero_division` parameter to control this behavior.\n",
      "  _warn_prf(average, modifier, f\"{metric.capitalize()} is\", len(result))\n",
      "/opt/anaconda3/envs/mdlmonitoring/lib/python3.11/site-packages/sklearn/metrics/_classification.py:1517: UndefinedMetricWarning: Precision is ill-defined and being set to 0.0 in labels with no predicted samples. Use `zero_division` parameter to control this behavior.\n",
      "  _warn_prf(average, modifier, f\"{metric.capitalize()} is\", len(result))\n",
      "/opt/anaconda3/envs/mdlmonitoring/lib/python3.11/site-packages/sklearn/metrics/_classification.py:1517: UndefinedMetricWarning: Recall is ill-defined and being set to 0.0 in labels with no true samples. Use `zero_division` parameter to control this behavior.\n",
      "  _warn_prf(average, modifier, f\"{metric.capitalize()} is\", len(result))\n",
      "/opt/anaconda3/envs/mdlmonitoring/lib/python3.11/site-packages/sklearn/metrics/_classification.py:1517: UndefinedMetricWarning: Precision is ill-defined and being set to 0.0 in labels with no predicted samples. Use `zero_division` parameter to control this behavior.\n",
      "  _warn_prf(average, modifier, f\"{metric.capitalize()} is\", len(result))\n",
      "/opt/anaconda3/envs/mdlmonitoring/lib/python3.11/site-packages/sklearn/metrics/_classification.py:1517: UndefinedMetricWarning: Recall is ill-defined and being set to 0.0 in labels with no true samples. Use `zero_division` parameter to control this behavior.\n",
      "  _warn_prf(average, modifier, f\"{metric.capitalize()} is\", len(result))\n"
     ]
    }
   ],
   "source": [
    "from sklearn.metrics import classification_report, accuracy_score\n",
    "# Assuming we have ground-truth labels for validation\n",
    "y_true_sentiments = df['Actual_Sentiment']  # Actual sentiments (from a validation set)\n",
    "y_true_outcomes = df['Actual_Outcome']   # Actual outcomes (from a validation set)\n",
    "\n",
    "# Model predictions\n",
    "y_pred_sentiments = df[\"Sentiment\"]\n",
    "y_pred_outcomes = df[\"Output\"]\n",
    "\n",
    "# Evaluate sentiment analysis\n",
    "print(classification_report(y_true_sentiments, y_pred_sentiments))\n",
    "\n",
    "# Evaluate call outcome classification\n",
    "print(classification_report(y_true_outcomes, y_pred_outcomes))\n"
   ]
  },
  {
   "cell_type": "code",
   "execution_count": 29,
   "metadata": {},
   "outputs": [
    {
     "data": {
      "image/png": "[encoded data removed]",
      "text/plain": [
       "<Figure size 600x600 with 1 Axes>"
      ]
     },
     "metadata": {},
     "output_type": "display_data"
    }
   ],
   "source": [
    "import matplotlib.pyplot as plt\n",
    "\n",
    "outcome_counts = df['Output'].value_counts()\n",
    "\n",
    "# Plot a pie chart\n",
    "plt.figure(figsize=(6, 6))  # Set the figure size\n",
    "plt.pie(outcome_counts, labels=outcome_counts.index, autopct='%1.1f%%', startangle=90, colors=['#66b3ff', '#99ff99'])\n",
    "\n",
    "# Equal aspect ratio ensures that pie is drawn as a circle.\n",
    "plt.axis('equal')\n",
    "\n",
    "# Title for the chart\n",
    "plt.title('Call Outcome Distribution')\n",
    "\n",
    "# Display the chart\n",
    "plt.show()"
   ]
  },
  {
   "cell_type": "code",
   "execution_count": 30,
   "metadata": {},
   "outputs": [
    {
     "data": {
      "image/png": "[encoded data removed]",
      "text/plain": [
       "<Figure size 800x600 with 1 Axes>"
      ]
     },
     "metadata": {},
     "output_type": "display_data"
    }
   ],
   "source": [
    "sentiment_counts = df['Sentiment'].value_counts()\n",
    "\n",
    "# Calculate the percentage\n",
    "sentiment_percentage = (sentiment_counts / sentiment_counts.sum()) * 100\n",
    "\n",
    "# Plot a bar chart\n",
    "plt.figure(figsize=(8, 6))  # Set the figure size\n",
    "plt.bar(sentiment_percentage.index, sentiment_percentage, color=['#ff9999','#66b3ff','#99ff99'])\n",
    "\n",
    "# Add percentage labels on top of the bars\n",
    "for i, value in enumerate(sentiment_percentage):\n",
    "    plt.text(i, value + 0.5, f'{value:.1f}%', ha='center')\n",
    "\n",
    "# Title and labels\n",
    "plt.title('Sentiment Distribution')\n",
    "plt.xlabel('Sentiment')\n",
    "plt.ylabel('Percentage')\n",
    "\n",
    "# Display the chart\n",
    "plt.show()"
   ]
  },
  {
   "cell_type": "code",
   "execution_count": null,
   "metadata": {},
   "outputs": [],
   "source": []
  }
 ],
 "metadata": {
  "kernelspec": {
   "display_name": "mdlmonitoring",
   "language": "python",
   "name": "python3"
  },
  "language_info": {
   "codemirror_mode": {
    "name": "ipython",
    "version": 3
   },
   "file_extension": ".py",
   "mimetype": "text/x-python",
   "name": "python",
   "nbconvert_exporter": "python",
   "pygments_lexer": "ipython3",
   "version": "3.11.9"
  }
 },
 "nbformat": 4,
 "nbformat_minor": 2
}
