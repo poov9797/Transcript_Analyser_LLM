{
 "cells": [
  {
   "cell_type": "code",
   "execution_count": null,
   "metadata": {},
   "outputs": [],
   "source": [
    "import os\n",
    "import re\n",
    "import pandas as pd\n",
    "import csv\n",
    "from tqdm import tqdm\n",
    "from sklearn.metrics import classification_report, accuracy_score\n",
    "import matplotlib.pyplot as plt\n",
    "from openai import OpenAI"
   ]
  },
  {
   "cell_type": "code",
   "execution_count": null,
   "metadata": {},
   "outputs": [],
   "source": [
    "# Constants for file paths and URLs\n",
    "PATH_TO_FILE = \"/Users/pravin/Desktop/Src/call_analysis_results.csv\"\n",
    "TRANSCRIPT_FOLDER_PATH = '/Users/pravin/Desktop/transcripts_v3/transcripts_v3'\n",
    "OLLAMA_URL = \"http://localhost:11434/v1/\"  # Local URL for the LLM API\n",
    "OLLAMA_API_KEY = \"ollama\"  # API key for the LLM service"
   ]
  },
  {
   "cell_type": "markdown",
   "metadata": {},
   "source": [
    "## Step 1: Load Transcripts from the Folder"
   ]
  },
  {
   "cell_type": "code",
   "execution_count": 1,
   "metadata": {},
   "outputs": [
    {
     "name": "stdout",
     "output_type": "stream",
     "text": [
      "Loaded 200 transcripts.\n"
     ]
    },
    {
     "data": {
      "text/plain": [
       "[{'transcript_0.txt': \"Member: Hi, I'm calling to get a case pre-authorized. My name is Emily Wilson and my member ID is MEM456789.\\n\\nPA Agent: Hi Emily, thank you for calling PA customer care. Can you please confirm your date of birth for verification purposes?\\n\\nMember: It's March 12, 1985.\\n\\nPA Agent: Thank you, Emily. Can you please provide me with some details about the case you're seeking pre-authorization for? What's the nature of the treatment or service you're looking to receive?\\n\\nMember: I'm scheduled to undergo an MRI scan for a knee injury. My doctor's office has already submitted the request, but I wanted to confirm the status and ensure that it's covered under my plan.\\n\\nPA Agent: I apologize for the delay, Emily. Let me just check on the status of your request. Can you please hold for just a moment?\\n\\nMember: Sure, thank you.\\n\\nPA Agent: Thank you for holding, Emily. I've located your request and I'm reviewing the details now. Can you please confirm the name of your doctor and the facility where the MRI scan is scheduled to take place?\\n\\nMember: My doctor's name is Dr. Smith and the facility is Oakwood Medical Center.\\n\\nPA Agent: Thank you, Emily. I've verified the information and I'm checking your eligibility now. Can you please hold for just another moment?\\n\\nMember: Okay.\\n\\nPA Agent: Thank you for holding, Emily. I've checked your eligibility and it appears that you do have coverage for the MRI scan under your plan. However, I need to escalate this request to our medical review team for further evaluation.\\n\\nMember: Okay, what does that mean?\\n\\nPA Agent: It means that our medical review team will review your case and make a determination regarding pre-authorization. I apologize, but I won't be able to provide a decision today. We'll be in touch with you within the next 3-5 business days to let you know the outcome.\\n\\nMember: Okay, that sounds good. Can you give me a reference number for this case so I can follow up if needed?\\n\\nPA Agent: Yes, certainly. Your case number is PA001234. You can use this number to follow up on the status of your request.\\n\\nMember: Great, thank you for your help.\\n\\nPA Agent: You're welcome, Emily. We'll be in touch soon. Is there anything else I can assist you with today?\\n\\nMember: No, that's all. Thank you.\\n\\nPA Agent: You're welcome. Have a great day.\"},\n",
       " {'transcript_1.txt': \"Member: Hi, I'm calling about a denied claim I received for my recent medical service. I was told that my policy doesn't cover it, but I'm certain it should be covered under my new policy. My member ID is MEM123456.\\n\\nCustomer Support: I apologize for the inconvenience, MEM123456. Can you please provide me with more information about the denied claim, such as the claim number and the date of service?\\n\\nMember: The claim number is CLM789012, and the date of service was February 10th.\\n\\nCustomer Support: Thank you for providing that information. I've located your claim in our system. Can you tell me more about the new policy you're referring to? When did you switch policies?\\n\\nMember: I switched policies on January 1st. I was told that the new policy would cover the service I received, but the denial letter says it's not covered.\\n\\nCustomer Support: I understand your concern. Let me check on the status of your policy update in our system. (pause) I apologize, but it appears that your new policy has not been updated in our system. This is likely the reason why your claim was denied.\\n\\nMember: That's frustrating. How can we get this resolved?\\n\\nCustomer Support: I'm going to go ahead and connect you with our policy update team. They'll be able to assist in updating your policy and reprocessing your claim. Please hold for just a moment.\\n\\n(pause)\\n\\nCustomer Support: You're now connected with our policy update team. They'll take care of updating your policy and getting your claim approved. Is there anything else I can assist you with in the meantime?\\n\\nMember: No, that's all. Thank you for your help.\\n\\nCustomer Support: You're welcome, MEM123456. We apologize again for the mistake and appreciate your patience. The policy update team will be in touch with you shortly to confirm the status of your claim.\\n\\nMember: Thank you.\\n\\nCustomer Support: You're welcome. Have a great day.\\n\\nCall duration: 9 minutes\"},\n",
       " {'transcript_2.txt': \"Member: Hi, I'm calling about my recent doctor's visit. I was charged a copay of $50, but I thought my policy covered that service with a $20 copay.\\n\\nCustomer Support: I apologize for the inconvenience, Mr. Johnson. Can you please provide me with your member ID so I can look into this further?\\n\\nMember: It's MEM456789.\\n\\nCustomer Support: Thank you, Mr. Johnson. I've located your account. Can you please confirm the date of the doctor's visit and the service that was provided?\\n\\nMember: It was on February 10th, and it was a routine physical exam.\\n\\nCustomer Support: Okay, I've located the claim. It looks like the copay amount was indeed $50. However, I'm going to check on the policy details to see if there was an error.\\n\\nMember: Yeah, because my policy says that routine physical exams have a $20 copay or sometimes no copay at all.\\n\\nCustomer Support: I understand your concern, Mr. Johnson. I'm checking on the policy details... (pause) Okay, I've checked, and it looks like there might have been an error in the copay amount. However, I need to escalate this to our claims department to investigate further.\\n\\nMember: Okay, that sounds good. How long will it take to resolve this?\\n\\nCustomer Support: Typically, it takes 3-5 business days to investigate and resolve these types of issues. I'll go ahead and open a case for you, and someone from our claims department will be in touch with you to provide an update.\\n\\nMember: Alright, that sounds good. Can I get a reference number for the case?\\n\\nCustomer Support: Yes, the case number is #CAS012345. You can use that to reference the case when you speak with our claims department.\\n\\nMember: Okay, got it. Thank you for your help.\\n\\nCustomer Support: You're welcome, Mr. Johnson. We'll be in touch soon to provide an update on your case.\\n\\nMember: Alright, thanks.\\n\\nCustomer Support: Is there anything else I can assist you with today?\\n\\nMember: No, that's all.\\n\\nCustomer Support: Okay, Mr. Johnson. Have a great day.\\n\\nMember: You too, thanks.\\n\\nCustomer Support: Goodbye.\"},\n",
       " {'transcript_3.txt': \"Member: Hi, I'm calling about my recent visit to the doctor. I was charged a copay of $50, but I'm sure my policy says it's supposed to be $20.\\n\\nCustomer Support: I apologize for the inconvenience, can you please provide me with your member ID so I can look into this further?\\n\\nMember: It's MEM123456.\\n\\nCustomer Support: Thank you, Mr./Ms./Mrs./Miss/Mx (Last Name). I've located your account. Can you please confirm the date of the doctor's visit and the name of the doctor you saw?\\n\\nMember: It was on February 10th, and the doctor's name is Dr. Smith.\\n\\nCustomer Support: Okay, let me check on that. (pause) I'm seeing that the copay for that service is indeed $50 according to our records.\\n\\nMember: But that's not what my policy says! I'm looking at it right now, and it says I shouldn't have to pay more than $20 for that type of service.\\n\\nCustomer Support: I understand your concern, but I assure you that our records are accurate. However, I can try to investigate this further. Can you please hold for a moment?\\n\\nMember: (sighs) Fine.\\n\\nCustomer Support: (after a few minutes) I apologize for the wait. I've checked with our billing team, and it seems that the copay was processed correctly according to our system.\\n\\nMember: That's ridiculous! I know what my policy says, and I'm not paying $50 for something I shouldn't have to. Can I speak to a supervisor?\\n\\nCustomer Support: I understand your frustration, but I'm afraid my supervisor is not available at the moment. I can offer to escalate this issue and have someone contact you within the next 24-48 hours.\\n\\nMember: That's not good enough. I want this resolved now. Can you just waive the extra $30?\\n\\nCustomer Support: I apologize, but I don't have the authority to make exceptions to the policy. I can only offer to escalate the issue as I mentioned earlier.\\n\\nMember: This is ridiculous. I'm going to report this to my employer and make sure no one else has to deal with this nonsense.\\n\\nCustomer Support: I apologize again for the inconvenience, and I understand your frustration. If you'd like to proceed with escalating the issue, I can go ahead and document that for you.\\n\\nMember: Just do it. And can you also send me a confirmation email about this conversation?\\n\\nCustomer Support: Yes, of course. I'll go ahead and send you a confirmation email with the details of our conversation and the escalation request.\\n\\nMember: (angrily) Fine. Thank you for nothing.\\n\\nCustomer Support: You're welcome, Mr./Ms./Mrs./Miss/Mx (Last Name). I apologize again for not being able to resolve the issue to your satisfaction.\"},\n",
       " {'transcript_4.txt': \"Member: Hi, I'd like to schedule an appointment with a specialist. My member ID is MEM123456.\\n\\nCustomer Support: Thank you for calling us, MEM123456. Can you please tell me what type of specialist you're looking for and what date and time you'd prefer for the appointment?\\n\\nMember: I'm looking for a dermatologist and I was thinking maybe next Wednesday or Thursday. Do you have any availability?\\n\\nCustomer Support: Let me check our schedule. (pause) Okay, I've checked and we have a few options available for next Wednesday and Thursday. We have Dr. Smith available on Wednesday at 2 PM and Dr. Johnson available on Thursday at 10 AM. Both are highly rated specialists in dermatology. Which one would you prefer?\\n\\nMember: That sounds great. Can you tell me a bit more about Dr. Smith and Dr. Johnson? What are their specialties within dermatology?\\n\\nCustomer Support: Dr. Smith specializes in skin cancer treatment and cosmetic dermatology, while Dr. Johnson focuses on acne treatment and skin allergies. Both are highly experienced and well-reviewed by our members.\\n\\nMember: Okay, I think I'd like to schedule an appointment with Dr. Johnson on Thursday at 10 AM.\\n\\nCustomer Support: Great choice! I've scheduled the appointment for you. You'll receive a confirmation email with all the details. Is there anything else I can assist you with today?\\n\\nMember: No, that's all. Thank you for your help!\\n\\nCustomer Support: You're welcome, MEM123456. Have a great day and we'll see you on Thursday!\\n\\nMember: Thanks, bye.\\n\\nCustomer Support: Bye.\"}]"
      ]
     },
     "execution_count": 1,
     "metadata": {},
     "output_type": "execute_result"
    }
   ],
   "source": [
    "# Path to the folder containing the transcript files\n",
    "folder_path = '/Users/pravin/Desktop/transcripts_v3/transcripts_v3'\n",
    "\n",
    "# Function to load all transcripts\n",
    "def load_transcripts(folder_path):\n",
    "    \"\"\"\n",
    "    Load all .txt transcript files from the specified folder.\n",
    "\n",
    "    Args:\n",
    "        folder_path (str): The path to the folder containing transcript files.\n",
    "\n",
    "    Returns:\n",
    "        list: A list of dictionaries with filenames as keys and file content as values.\n",
    "    \"\"\"\n",
    "    transcripts = []\n",
    "    # List and sort the filenames in ascending order\n",
    "    filenames = sorted([filename for filename in os.listdir(folder_path) if filename.endswith(\".txt\")])\n",
    "    \n",
    "    # Load each transcript file in the sorted order\n",
    "    for filename in filenames:\n",
    "        with open(os.path.join(folder_path, filename), 'r') as file:\n",
    "            transcripts.append({filename:file.read()})\n",
    "    return transcripts\n",
    "\n",
    "# Load all transcript files\n",
    "transcripts = load_transcripts(folder_path)\n",
    "print(f\"Loaded {len(transcripts)} transcripts.\")\n",
    "# Function to extract the numerical part of the filename\n",
    "def extract_number(key):\n",
    "    return int(re.search(r'\\d+', key).group())\n",
    "\n",
    "# Sort the transcripts based on the number in the filename\n",
    "sorted_transcripts = sorted(transcripts, key=lambda x: extract_number(list(x.keys())[0]))\n",
    "sorted_transcripts[:5]\n"
   ]
  },
  {
   "cell_type": "markdown",
   "metadata": {},
   "source": [
    "## Step 2: Extract Customer Portions from Each Transcript"
   ]
  },
  {
   "cell_type": "code",
   "execution_count": 2,
   "metadata": {},
   "outputs": [
    {
     "data": {
      "text/plain": [
       "[\"Hi, I'm calling to get a case pre-authorized. My name is Emily Wilson and my member ID is MEM456789. It's March 12, 1985. I'm scheduled to undergo an MRI scan for a knee injury. My doctor's office has already submitted the request, but I wanted to confirm the status and ensure that it's covered under my plan. Sure, thank you. My doctor's name is Dr. Smith and the facility is Oakwood Medical Center. Okay. Okay, what does that mean? Okay, that sounds good. Can you give me a reference number for this case so I can follow up if needed? Great, thank you for your help. No, that's all. Thank you.\",\n",
       " \"Hi, I'm calling about a denied claim I received for my recent medical service. I was told that my policy doesn't cover it, but I'm certain it should be covered under my new policy. My member ID is MEM123456. The claim number is CLM789012, and the date of service was February 10th. I switched policies on January 1st. I was told that the new policy would cover the service I received, but the denial letter says it's not covered. That's frustrating. How can we get this resolved? No, that's all. Thank you for your help. Thank you.\",\n",
       " \"Hi, I'm calling about my recent doctor's visit. I was charged a copay of $50, but I thought my policy covered that service with a $20 copay. It's MEM456789. It was on February 10th, and it was a routine physical exam. Yeah, because my policy says that routine physical exams have a $20 copay or sometimes no copay at all. Okay, that sounds good. How long will it take to resolve this? Alright, that sounds good. Can I get a reference number for the case? Okay, got it. Thank you for your help. Alright, thanks. No, that's all. You too, thanks.\",\n",
       " \"Hi, I'm calling about my recent visit to the doctor. I was charged a copay of $50, but I'm sure my policy says it's supposed to be $20. It's MEM123456. It was on February 10th, and the doctor's name is Dr. Smith. But that's not what my policy says! I'm looking at it right now, and it says I shouldn't have to pay more than $20 for that type of service. (sighs) Fine. That's ridiculous! I know what my policy says, and I'm not paying $50 for something I shouldn't have to. Can I speak to a supervisor? That's not good enough. I want this resolved now. Can you just waive the extra $30? This is ridiculous. I'm going to report this to my employer and make sure no one else has to deal with this nonsense. Just do it. And can you also send me a confirmation email about this conversation? (angrily) Fine. Thank you for nothing.\",\n",
       " \"Hi, I'd like to schedule an appointment with a specialist. My member ID is MEM123456. I'm looking for a dermatologist and I was thinking maybe next Wednesday or Thursday. Do you have any availability? That sounds great. Can you tell me a bit more about Dr. Smith and Dr. Johnson? What are their specialties within dermatology? Okay, I think I'd like to schedule an appointment with Dr. Johnson on Thursday at 10 AM. No, that's all. Thank you for your help! Thanks, bye.\"]"
      ]
     },
     "execution_count": 2,
     "metadata": {},
     "output_type": "execute_result"
    }
   ],
   "source": [
    "# Function to extract customer dialogue from a list of transcripts\n",
    "def extract_customer_transcripts(transcripts):\n",
    "    \"\"\"\n",
    "    Extract the numerical part of a filename.\n",
    "\n",
    "    Args:\n",
    "        filename (str): The filename from which to extract the number.\n",
    "\n",
    "    Returns:\n",
    "        int: The extracted number from the filename.\n",
    "    \"\"\"\n",
    "    customer_transcripts = []\n",
    "    for transcript in transcripts:\n",
    "        customer_lines = re.findall(r\"Member: (.+)\", transcript)\n",
    "        customer_dialogue = ' '.join(customer_lines) # extract_customer_transcript(transcript)  \n",
    "        customer_transcripts.append(customer_dialogue)\n",
    "    return customer_transcripts\n",
    "\n",
    "# Extract customer portions from all transcripts\n",
    "transcript_texts = [list(transcript.values())[0] for transcript in sorted_transcripts]\n",
    "customer_transcripts = extract_customer_transcripts(transcript_texts)\n",
    "customer_transcripts[:5]"
   ]
  },
  {
   "cell_type": "markdown",
   "metadata": {},
   "source": [
    "## Step 3: Sentiment Analysis for Each Transcript\n"
   ]
  },
  {
   "cell_type": "code",
   "execution_count": 3,
   "metadata": {},
   "outputs": [
    {
     "name": "stderr",
     "output_type": "stream",
     "text": [
      "Asking to truncate to max_length but no maximum length is provided and the model has no predefined maximum length. Default to no truncation.\n"
     ]
    }
   ],
   "source": [
    "from transformers import AutoModelForSequenceClassification, AutoTokenizer\n",
    "import torch\n",
    "\n",
    "# Load the sentiment analysis model\n",
    "model_name = \"cardiffnlp/twitter-roberta-base-sentiment\"\n",
    "tokenizer = AutoTokenizer.from_pretrained(model_name)\n",
    "model = AutoModelForSequenceClassification.from_pretrained(model_name)\n",
    "\n",
    "# Move model to MPS if available\n",
    "if torch.backends.mps.is_available():\n",
    "    model.to(\"mps\")\n",
    "else:\n",
    "    model.to(\"cpu\")\n",
    "\n",
    "# Function to get the sentiment using the model\n",
    "def get_sentiment(text):\n",
    "    inputs = tokenizer(text, return_tensors=\"pt\", padding=True, truncation=True)\n",
    "\n",
    "    # Move inputs to MPS if available\n",
    "    if torch.backends.mps.is_available():\n",
    "        inputs = {k: v.to(\"mps\") for k, v in inputs.items()}\n",
    "\n",
    "    with torch.no_grad():\n",
    "        outputs = model(**inputs)\n",
    "        logits = outputs.logits\n",
    "        predicted_class = torch.argmax(logits, dim=-1).item()\n",
    "\n",
    "    # Return label based on prediction\n",
    "    if predicted_class == 0:\n",
    "        return \"NEGATIVE\"\n",
    "    elif predicted_class == 1:\n",
    "        return \"NEUTRAL\"\n",
    "    else:\n",
    "        return \"POSITIVE\"\n",
    "\n",
    "# Analyze sentiment for each customer transcript\n",
    "sentiments = [get_sentiment(text) for text in customer_transcripts]\n"
   ]
  },
  {
   "cell_type": "code",
   "execution_count": 5,
   "metadata": {},
   "outputs": [],
   "source": [
    "def build_prompt(transcript):\n",
    "    \"\"\"\n",
    "    Build the LLM prompt for analyzing the conversation.\n",
    "\n",
    "    Args:\n",
    "        transcript (str): The conversation transcript to be analyzed.\n",
    "\n",
    "    Returns:\n",
    "        str: The formatted prompt for the LLM model.\n",
    "    \"\"\"\n",
    "    prompt_template = f\"\"\"\n",
    "    \n",
    "    The following is a conversation between a customer and an agent. Analyze only the customer side of the conversation and do the following:\n",
    "\n",
    "    1. Determine if the customer's issue was resolved or if follow-up action is needed.\n",
    "    2. Determine the overall sentiment of the customer during the conversation (positive, negative, or neutral).\n",
    "\n",
    "    Customer Transcript: {transcript}\n",
    "\n",
    "    Please provide your answer in the format:\n",
    "\n",
    "    Call Outcome: [Issue Resolved/Follow-up Action Needed]\n",
    "    Sentiment: [Positive/Negative/Neutral]\n",
    "    \"\"\"\n",
    "    \n",
    "    return prompt_template.strip()"
   ]
  },
  {
   "cell_type": "code",
   "execution_count": 9,
   "metadata": {},
   "outputs": [],
   "source": [
    "def llm(transcript):\n",
    "    \"\"\"\n",
    "    Use LLM to analyze the transcript for call outcome and sentiment.\n",
    "\n",
    "    Args:\n",
    "        transcript (str): The conversation transcript to be analyzed.\n",
    "\n",
    "    Returns:\n",
    "        str: The LLM response containing call outcome and sentiment analysis.\n",
    "    \"\"\"    \n",
    "    prompt=build_prompt(transcript)\n",
    "           \n",
    "    ollama_client = OpenAI(base_url=OLLAMA_URL, api_key=\"ollama\")\n",
    "\n",
    "    response = ollama_client.chat.completions.create(\n",
    "                model=\"llama3.2\",\n",
    "                messages=[{\"role\": \"user\", \"content\": prompt}]\n",
    "            )\n",
    "    answer = response.choices[0].message.content\n",
    "    return answer"
   ]
  },
  {
   "cell_type": "code",
   "execution_count": 10,
   "metadata": {},
   "outputs": [],
   "source": [
    "from tqdm import tqdm\n",
    "\n",
    "def determine_call_outcomes(customer_transcripts):\n",
    "    \"\"\"\n",
    "    Determine call outcomes and sentiments using LLM for each transcript.\n",
    "\n",
    "    Args:\n",
    "        transcripts (list): A list of transcripts to be analyzed.\n",
    "\n",
    "    Returns:\n",
    "        list: A list of LLM responses for each transcript.\n",
    "    \"\"\"\n",
    "    outcomes = []\n",
    "    for transcript in tqdm(customer_transcripts, desc=\"Processing Transcripts\"):\n",
    "        outcome = llm(transcript)  # Reuse the function from earlier\n",
    "        outcomes.append(outcome)\n",
    "    return outcomes\n"
   ]
  },
  {
   "cell_type": "code",
   "execution_count": 11,
   "metadata": {},
   "outputs": [
    {
     "name": "stderr",
     "output_type": "stream",
     "text": [
      "huggingface/tokenizers: The current process just got forked, after parallelism has already been used. Disabling parallelism to avoid deadlocks...\n",
      "To disable this warning, you can either:\n",
      "\t- Avoid using `tokenizers` before the fork if possible\n",
      "\t- Explicitly set the environment variable TOKENIZERS_PARALLELISM=(true | false)\n",
      "Processing Transcripts: 100%|██████████| 200/200 [39:49<00:00, 11.95s/it] \n"
     ]
    }
   ],
   "source": [
    "# Determine call outcome for each transcript\n",
    "call_outcomes = determine_call_outcomes(customer_transcripts)"
   ]
  },
  {
   "cell_type": "code",
   "execution_count": 34,
   "metadata": {},
   "outputs": [
    {
     "name": "stdout",
     "output_type": "stream",
     "text": [
      "Sentiments written to call_outcomes.csv successfully.\n"
     ]
    }
   ],
   "source": [
    "import csv\n",
    "\n",
    "# Specify the output CSV file name\n",
    "csv_file_name = \"call_outcomes.csv\"\n",
    "\n",
    "# Writing to the CSV file\n",
    "with open(csv_file_name, mode='w', newline='') as file:\n",
    "    writer = csv.writer(file)\n",
    "    \n",
    "    # Write the header\n",
    "    writer.writerow([\"Call_Outcome\"])\n",
    "    \n",
    "    # Write the sentiments\n",
    "    for call_outcome in call_outcomes:\n",
    "        writer.writerow([call_outcome])\n",
    "\n",
    "print(f\"Sentiments written to {csv_file_name} successfully.\")"
   ]
  },
  {
   "cell_type": "code",
   "execution_count": 40,
   "metadata": {},
   "outputs": [],
   "source": [
    "import pandas as pd\n",
    "\n",
    "# Create a DataFrame to store results\n",
    "df_results = pd.DataFrame({\n",
    "    'Transcript': sorted_transcripts,\n",
    "    'Customer Dialogue': customer_transcripts,\n",
    "    'Sentiment': sentiments,  # 'POSITIVE' or 'NEGATIVE'\n",
    "    'Call Outcome': call_outcomes\n",
    "})\n"
   ]
  },
  {
   "cell_type": "code",
   "execution_count": 41,
   "metadata": {},
   "outputs": [
    {
     "data": {
      "text/html": [
       "<div>\n",
       "<style scoped>\n",
       "    .dataframe tbody tr th:only-of-type {\n",
       "        vertical-align: middle;\n",
       "    }\n",
       "\n",
       "    .dataframe tbody tr th {\n",
       "        vertical-align: top;\n",
       "    }\n",
       "\n",
       "    .dataframe thead th {\n",
       "        text-align: right;\n",
       "    }\n",
       "</style>\n",
       "<table border=\"1\" class=\"dataframe\">\n",
       "  <thead>\n",
       "    <tr style=\"text-align: right;\">\n",
       "      <th></th>\n",
       "      <th>Transcript</th>\n",
       "      <th>Customer Dialogue</th>\n",
       "      <th>Sentiment</th>\n",
       "      <th>Call Outcome</th>\n",
       "    </tr>\n",
       "  </thead>\n",
       "  <tbody>\n",
       "    <tr>\n",
       "      <th>0</th>\n",
       "      <td>{'transcript_0.txt': 'Member: Hi, I'm calling ...</td>\n",
       "      <td>Hi, I'm calling to get a case pre-authorized. ...</td>\n",
       "      <td>POSITIVE</td>\n",
       "      <td>Call Outcome: Issue Resolved\\nSentiment: Neutr...</td>\n",
       "    </tr>\n",
       "    <tr>\n",
       "      <th>1</th>\n",
       "      <td>{'transcript_1.txt': 'Member: Hi, I'm calling ...</td>\n",
       "      <td>Hi, I'm calling about a denied claim I receive...</td>\n",
       "      <td>NEGATIVE</td>\n",
       "      <td>Call Outcome: Follow-up Action Needed\\nSentime...</td>\n",
       "    </tr>\n",
       "    <tr>\n",
       "      <th>2</th>\n",
       "      <td>{'transcript_2.txt': 'Member: Hi, I'm calling ...</td>\n",
       "      <td>Hi, I'm calling about my recent doctor's visit...</td>\n",
       "      <td>POSITIVE</td>\n",
       "      <td>Call Outcome: Follow-up Action Needed\\nSentime...</td>\n",
       "    </tr>\n",
       "    <tr>\n",
       "      <th>3</th>\n",
       "      <td>{'transcript_3.txt': 'Member: Hi, I'm calling ...</td>\n",
       "      <td>Hi, I'm calling about my recent visit to the d...</td>\n",
       "      <td>NEGATIVE</td>\n",
       "      <td>Call Outcome: Follow-up Action Needed\\nSentime...</td>\n",
       "    </tr>\n",
       "    <tr>\n",
       "      <th>4</th>\n",
       "      <td>{'transcript_4.txt': 'Member: Hi, I'd like to ...</td>\n",
       "      <td>Hi, I'd like to schedule an appointment with a...</td>\n",
       "      <td>POSITIVE</td>\n",
       "      <td>Call Outcome: Issue Resolved\\nSentiment: Posit...</td>\n",
       "    </tr>\n",
       "  </tbody>\n",
       "</table>\n",
       "</div>"
      ],
      "text/plain": [
       "                                          Transcript  \\\n",
       "0  {'transcript_0.txt': 'Member: Hi, I'm calling ...   \n",
       "1  {'transcript_1.txt': 'Member: Hi, I'm calling ...   \n",
       "2  {'transcript_2.txt': 'Member: Hi, I'm calling ...   \n",
       "3  {'transcript_3.txt': 'Member: Hi, I'm calling ...   \n",
       "4  {'transcript_4.txt': 'Member: Hi, I'd like to ...   \n",
       "\n",
       "                                   Customer Dialogue Sentiment  \\\n",
       "0  Hi, I'm calling to get a case pre-authorized. ...  POSITIVE   \n",
       "1  Hi, I'm calling about a denied claim I receive...  NEGATIVE   \n",
       "2  Hi, I'm calling about my recent doctor's visit...  POSITIVE   \n",
       "3  Hi, I'm calling about my recent visit to the d...  NEGATIVE   \n",
       "4  Hi, I'd like to schedule an appointment with a...  POSITIVE   \n",
       "\n",
       "                                        Call Outcome  \n",
       "0  Call Outcome: Issue Resolved\\nSentiment: Neutr...  \n",
       "1  Call Outcome: Follow-up Action Needed\\nSentime...  \n",
       "2  Call Outcome: Follow-up Action Needed\\nSentime...  \n",
       "3  Call Outcome: Follow-up Action Needed\\nSentime...  \n",
       "4  Call Outcome: Issue Resolved\\nSentiment: Posit...  "
      ]
     },
     "execution_count": 41,
     "metadata": {},
     "output_type": "execute_result"
    }
   ],
   "source": [
    "df_results.head()"
   ]
  },
  {
   "cell_type": "code",
   "execution_count": 42,
   "metadata": {},
   "outputs": [
    {
     "data": {
      "text/html": [
       "<div>\n",
       "<style scoped>\n",
       "    .dataframe tbody tr th:only-of-type {\n",
       "        vertical-align: middle;\n",
       "    }\n",
       "\n",
       "    .dataframe tbody tr th {\n",
       "        vertical-align: top;\n",
       "    }\n",
       "\n",
       "    .dataframe thead th {\n",
       "        text-align: right;\n",
       "    }\n",
       "</style>\n",
       "<table border=\"1\" class=\"dataframe\">\n",
       "  <thead>\n",
       "    <tr style=\"text-align: right;\">\n",
       "      <th></th>\n",
       "      <th>Transcript</th>\n",
       "      <th>Customer Dialogue</th>\n",
       "      <th>Sentiment</th>\n",
       "      <th>Call Outcome</th>\n",
       "      <th>Output</th>\n",
       "    </tr>\n",
       "  </thead>\n",
       "  <tbody>\n",
       "    <tr>\n",
       "      <th>0</th>\n",
       "      <td>{'transcript_0.txt': 'Member: Hi, I'm calling ...</td>\n",
       "      <td>Hi, I'm calling to get a case pre-authorized. ...</td>\n",
       "      <td>POSITIVE</td>\n",
       "      <td>Call Outcome: Issue Resolved\\nSentiment: Neutr...</td>\n",
       "      <td>Issue Resolved</td>\n",
       "    </tr>\n",
       "    <tr>\n",
       "      <th>1</th>\n",
       "      <td>{'transcript_1.txt': 'Member: Hi, I'm calling ...</td>\n",
       "      <td>Hi, I'm calling about a denied claim I receive...</td>\n",
       "      <td>NEGATIVE</td>\n",
       "      <td>Call Outcome: Follow-up Action Needed\\nSentime...</td>\n",
       "      <td>Follow-up Action Needed</td>\n",
       "    </tr>\n",
       "    <tr>\n",
       "      <th>2</th>\n",
       "      <td>{'transcript_2.txt': 'Member: Hi, I'm calling ...</td>\n",
       "      <td>Hi, I'm calling about my recent doctor's visit...</td>\n",
       "      <td>POSITIVE</td>\n",
       "      <td>Call Outcome: Follow-up Action Needed\\nSentime...</td>\n",
       "      <td>Follow-up Action Needed</td>\n",
       "    </tr>\n",
       "    <tr>\n",
       "      <th>3</th>\n",
       "      <td>{'transcript_3.txt': 'Member: Hi, I'm calling ...</td>\n",
       "      <td>Hi, I'm calling about my recent visit to the d...</td>\n",
       "      <td>NEGATIVE</td>\n",
       "      <td>Call Outcome: Follow-up Action Needed\\nSentime...</td>\n",
       "      <td>Follow-up Action Needed</td>\n",
       "    </tr>\n",
       "    <tr>\n",
       "      <th>4</th>\n",
       "      <td>{'transcript_4.txt': 'Member: Hi, I'd like to ...</td>\n",
       "      <td>Hi, I'd like to schedule an appointment with a...</td>\n",
       "      <td>POSITIVE</td>\n",
       "      <td>Call Outcome: Issue Resolved\\nSentiment: Posit...</td>\n",
       "      <td>Issue Resolved</td>\n",
       "    </tr>\n",
       "  </tbody>\n",
       "</table>\n",
       "</div>"
      ],
      "text/plain": [
       "                                          Transcript  \\\n",
       "0  {'transcript_0.txt': 'Member: Hi, I'm calling ...   \n",
       "1  {'transcript_1.txt': 'Member: Hi, I'm calling ...   \n",
       "2  {'transcript_2.txt': 'Member: Hi, I'm calling ...   \n",
       "3  {'transcript_3.txt': 'Member: Hi, I'm calling ...   \n",
       "4  {'transcript_4.txt': 'Member: Hi, I'd like to ...   \n",
       "\n",
       "                                   Customer Dialogue Sentiment  \\\n",
       "0  Hi, I'm calling to get a case pre-authorized. ...  POSITIVE   \n",
       "1  Hi, I'm calling about a denied claim I receive...  NEGATIVE   \n",
       "2  Hi, I'm calling about my recent doctor's visit...  POSITIVE   \n",
       "3  Hi, I'm calling about my recent visit to the d...  NEGATIVE   \n",
       "4  Hi, I'd like to schedule an appointment with a...  POSITIVE   \n",
       "\n",
       "                                        Call Outcome                   Output  \n",
       "0  Call Outcome: Issue Resolved\\nSentiment: Neutr...           Issue Resolved  \n",
       "1  Call Outcome: Follow-up Action Needed\\nSentime...  Follow-up Action Needed  \n",
       "2  Call Outcome: Follow-up Action Needed\\nSentime...  Follow-up Action Needed  \n",
       "3  Call Outcome: Follow-up Action Needed\\nSentime...  Follow-up Action Needed  \n",
       "4  Call Outcome: Issue Resolved\\nSentiment: Posit...           Issue Resolved  "
      ]
     },
     "execution_count": 42,
     "metadata": {},
     "output_type": "execute_result"
    }
   ],
   "source": [
    "# Define a function to check and categorize the outcome\n",
    "def categorize_outcome(call_outcome):\n",
    "    call_outcome_lower = call_outcome.lower()\n",
    "    if \"issue\"  in call_outcome_lower:\n",
    "        return \"Issue Resolved\"\n",
    "    elif \"follow-up\" in call_outcome_lower:\n",
    "        return \"Follow-up Action Needed\"\n",
    "    else:\n",
    "        return \"Unknown\"\n",
    "\n",
    "# Apply the function to the 'Call Outcome' column and create a new 'Output' column\n",
    "df_results['Output'] = df_results['Call Outcome'].apply(categorize_outcome)\n",
    "\n",
    "# Display the DataFrame\n",
    "df_results.head()"
   ]
  },
  {
   "cell_type": "code",
   "execution_count": 43,
   "metadata": {},
   "outputs": [
    {
     "name": "stdout",
     "output_type": "stream",
     "text": [
      "Results saved to call_analysis_results.csv\n"
     ]
    }
   ],
   "source": [
    "# Save results to a CSV file\n",
    "df_results.to_csv('call_analysis_results.csv', index=False)\n",
    "print(\"Results saved to call_analysis_results.csv\")"
   ]
  }
 ],
 "metadata": {
  "kernelspec": {
   "display_name": "mdlmonitoring",
   "language": "python",
   "name": "python3"
  },
  "language_info": {
   "codemirror_mode": {
    "name": "ipython",
    "version": 3
   },
   "file_extension": ".py",
   "mimetype": "text/x-python",
   "name": "python",
   "nbconvert_exporter": "python",
   "pygments_lexer": "ipython3",
   "version": "3.11.9"
  }
 },
 "nbformat": 4,
 "nbformat_minor": 2
}
